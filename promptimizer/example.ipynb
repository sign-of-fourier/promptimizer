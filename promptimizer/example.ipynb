{
 "cells": [
  {
   "cell_type": "code",
   "execution_count": 1,
   "id": "9f509c13-c9ce-4b1c-9a3f-4e8f69aeea45",
   "metadata": {
    "scrolled": true,
    "tags": []
   },
   "outputs": [
    {
     "name": "stdout",
     "output_type": "stream",
     "text": [
      "Collecting openai\n",
      "  Downloading openai-1.84.0-py3-none-any.whl.metadata (25 kB)\n",
      "Requirement already satisfied: anyio<5,>=3.5.0 in /home/ec2-user/anaconda3/envs/python3/lib/python3.10/site-packages (from openai) (4.9.0)\n",
      "Collecting distro<2,>=1.7.0 (from openai)\n",
      "  Downloading distro-1.9.0-py3-none-any.whl.metadata (6.8 kB)\n",
      "Requirement already satisfied: httpx<1,>=0.23.0 in /home/ec2-user/anaconda3/envs/python3/lib/python3.10/site-packages (from openai) (0.28.1)\n",
      "Collecting jiter<1,>=0.4.0 (from openai)\n",
      "  Downloading jiter-0.10.0-cp310-cp310-manylinux_2_17_x86_64.manylinux2014_x86_64.whl.metadata (5.2 kB)\n",
      "Requirement already satisfied: pydantic<3,>=1.9.0 in /home/ec2-user/anaconda3/envs/python3/lib/python3.10/site-packages (from openai) (2.9.2)\n",
      "Requirement already satisfied: sniffio in /home/ec2-user/anaconda3/envs/python3/lib/python3.10/site-packages (from openai) (1.3.1)\n",
      "Requirement already satisfied: tqdm>4 in /home/ec2-user/anaconda3/envs/python3/lib/python3.10/site-packages (from openai) (4.67.1)\n",
      "Requirement already satisfied: typing-extensions<5,>=4.11 in /home/ec2-user/anaconda3/envs/python3/lib/python3.10/site-packages (from openai) (4.13.2)\n",
      "Requirement already satisfied: exceptiongroup>=1.0.2 in /home/ec2-user/anaconda3/envs/python3/lib/python3.10/site-packages (from anyio<5,>=3.5.0->openai) (1.2.2)\n",
      "Requirement already satisfied: idna>=2.8 in /home/ec2-user/anaconda3/envs/python3/lib/python3.10/site-packages (from anyio<5,>=3.5.0->openai) (3.10)\n",
      "Requirement already satisfied: certifi in /home/ec2-user/anaconda3/envs/python3/lib/python3.10/site-packages (from httpx<1,>=0.23.0->openai) (2025.1.31)\n",
      "Requirement already satisfied: httpcore==1.* in /home/ec2-user/anaconda3/envs/python3/lib/python3.10/site-packages (from httpx<1,>=0.23.0->openai) (1.0.7)\n",
      "Requirement already satisfied: h11<0.15,>=0.13 in /home/ec2-user/anaconda3/envs/python3/lib/python3.10/site-packages (from httpcore==1.*->httpx<1,>=0.23.0->openai) (0.14.0)\n",
      "Requirement already satisfied: annotated-types>=0.6.0 in /home/ec2-user/anaconda3/envs/python3/lib/python3.10/site-packages (from pydantic<3,>=1.9.0->openai) (0.7.0)\n",
      "Requirement already satisfied: pydantic-core==2.23.4 in /home/ec2-user/anaconda3/envs/python3/lib/python3.10/site-packages (from pydantic<3,>=1.9.0->openai) (2.23.4)\n",
      "Downloading openai-1.84.0-py3-none-any.whl (725 kB)\n",
      "\u001b[2K   \u001b[90m━━━━━━━━━━━━━━━━━━━━━━━━━━━━━━━━━━━━━━━━\u001b[0m \u001b[32m725.5/725.5 kB\u001b[0m \u001b[31m20.4 MB/s\u001b[0m eta \u001b[36m0:00:00\u001b[0m\n",
      "\u001b[?25hDownloading distro-1.9.0-py3-none-any.whl (20 kB)\n",
      "Downloading jiter-0.10.0-cp310-cp310-manylinux_2_17_x86_64.manylinux2014_x86_64.whl (352 kB)\n",
      "Installing collected packages: jiter, distro, openai\n",
      "Successfully installed distro-1.9.0 jiter-0.10.0 openai-1.84.0\n",
      "Note: you may need to restart the kernel to use updated packages.\n"
     ]
    }
   ],
   "source": [
    "pip install openai"
   ]
  },
  {
   "cell_type": "code",
   "execution_count": 2,
   "id": "61f29dca-6bd0-4542-a78a-dab6cea73f6f",
   "metadata": {
    "scrolled": true
   },
   "outputs": [
    {
     "name": "stdout",
     "output_type": "stream",
     "text": [
      "Collecting Datasets\n",
      "  Downloading datasets-3.6.0-py3-none-any.whl.metadata (19 kB)\n",
      "Requirement already satisfied: filelock in /home/ec2-user/anaconda3/envs/python3/lib/python3.10/site-packages (from Datasets) (3.16.1)\n",
      "Requirement already satisfied: numpy>=1.17 in /home/ec2-user/anaconda3/envs/python3/lib/python3.10/site-packages (from Datasets) (1.26.4)\n",
      "Requirement already satisfied: pyarrow>=15.0.0 in /home/ec2-user/anaconda3/envs/python3/lib/python3.10/site-packages (from Datasets) (19.0.1)\n",
      "Collecting dill<0.3.9,>=0.3.0 (from Datasets)\n",
      "  Downloading dill-0.3.8-py3-none-any.whl.metadata (10 kB)\n",
      "Requirement already satisfied: pandas in /home/ec2-user/anaconda3/envs/python3/lib/python3.10/site-packages (from Datasets) (1.5.3)\n",
      "Requirement already satisfied: requests>=2.32.2 in /home/ec2-user/anaconda3/envs/python3/lib/python3.10/site-packages (from Datasets) (2.32.3)\n",
      "Requirement already satisfied: tqdm>=4.66.3 in /home/ec2-user/anaconda3/envs/python3/lib/python3.10/site-packages (from Datasets) (4.67.1)\n",
      "Collecting xxhash (from Datasets)\n",
      "  Downloading xxhash-3.5.0-cp310-cp310-manylinux_2_17_x86_64.manylinux2014_x86_64.whl.metadata (12 kB)\n",
      "Collecting multiprocess<0.70.17 (from Datasets)\n",
      "  Downloading multiprocess-0.70.16-py310-none-any.whl.metadata (7.2 kB)\n",
      "Collecting fsspec<=2025.3.0,>=2023.1.0 (from fsspec[http]<=2025.3.0,>=2023.1.0->Datasets)\n",
      "  Downloading fsspec-2025.3.0-py3-none-any.whl.metadata (11 kB)\n",
      "Collecting huggingface-hub>=0.24.0 (from Datasets)\n",
      "  Downloading huggingface_hub-0.32.4-py3-none-any.whl.metadata (14 kB)\n",
      "Requirement already satisfied: packaging in /home/ec2-user/anaconda3/envs/python3/lib/python3.10/site-packages (from Datasets) (24.2)\n",
      "Requirement already satisfied: pyyaml>=5.1 in /home/ec2-user/anaconda3/envs/python3/lib/python3.10/site-packages (from Datasets) (6.0.2)\n",
      "Requirement already satisfied: aiohttp!=4.0.0a0,!=4.0.0a1 in /home/ec2-user/anaconda3/envs/python3/lib/python3.10/site-packages (from fsspec[http]<=2025.3.0,>=2023.1.0->Datasets) (3.11.18)\n",
      "Requirement already satisfied: typing-extensions>=3.7.4.3 in /home/ec2-user/anaconda3/envs/python3/lib/python3.10/site-packages (from huggingface-hub>=0.24.0->Datasets) (4.13.2)\n",
      "Collecting hf-xet<2.0.0,>=1.1.2 (from huggingface-hub>=0.24.0->Datasets)\n",
      "  Downloading hf_xet-1.1.3-cp37-abi3-manylinux_2_17_x86_64.manylinux2014_x86_64.whl.metadata (879 bytes)\n",
      "Requirement already satisfied: charset_normalizer<4,>=2 in /home/ec2-user/anaconda3/envs/python3/lib/python3.10/site-packages (from requests>=2.32.2->Datasets) (3.4.1)\n",
      "Requirement already satisfied: idna<4,>=2.5 in /home/ec2-user/anaconda3/envs/python3/lib/python3.10/site-packages (from requests>=2.32.2->Datasets) (3.10)\n",
      "Requirement already satisfied: urllib3<3,>=1.21.1 in /home/ec2-user/anaconda3/envs/python3/lib/python3.10/site-packages (from requests>=2.32.2->Datasets) (2.4.0)\n",
      "Requirement already satisfied: certifi>=2017.4.17 in /home/ec2-user/anaconda3/envs/python3/lib/python3.10/site-packages (from requests>=2.32.2->Datasets) (2025.1.31)\n",
      "Requirement already satisfied: python-dateutil>=2.8.1 in /home/ec2-user/anaconda3/envs/python3/lib/python3.10/site-packages (from pandas->Datasets) (2.9.0.post0)\n",
      "Requirement already satisfied: pytz>=2020.1 in /home/ec2-user/anaconda3/envs/python3/lib/python3.10/site-packages (from pandas->Datasets) (2025.2)\n",
      "Requirement already satisfied: aiohappyeyeballs>=2.3.0 in /home/ec2-user/anaconda3/envs/python3/lib/python3.10/site-packages (from aiohttp!=4.0.0a0,!=4.0.0a1->fsspec[http]<=2025.3.0,>=2023.1.0->Datasets) (2.6.1)\n",
      "Requirement already satisfied: aiosignal>=1.1.2 in /home/ec2-user/anaconda3/envs/python3/lib/python3.10/site-packages (from aiohttp!=4.0.0a0,!=4.0.0a1->fsspec[http]<=2025.3.0,>=2023.1.0->Datasets) (1.3.2)\n",
      "Requirement already satisfied: async-timeout<6.0,>=4.0 in /home/ec2-user/anaconda3/envs/python3/lib/python3.10/site-packages (from aiohttp!=4.0.0a0,!=4.0.0a1->fsspec[http]<=2025.3.0,>=2023.1.0->Datasets) (5.0.1)\n",
      "Requirement already satisfied: attrs>=17.3.0 in /home/ec2-user/anaconda3/envs/python3/lib/python3.10/site-packages (from aiohttp!=4.0.0a0,!=4.0.0a1->fsspec[http]<=2025.3.0,>=2023.1.0->Datasets) (23.2.0)\n",
      "Requirement already satisfied: frozenlist>=1.1.1 in /home/ec2-user/anaconda3/envs/python3/lib/python3.10/site-packages (from aiohttp!=4.0.0a0,!=4.0.0a1->fsspec[http]<=2025.3.0,>=2023.1.0->Datasets) (1.5.0)\n",
      "Requirement already satisfied: multidict<7.0,>=4.5 in /home/ec2-user/anaconda3/envs/python3/lib/python3.10/site-packages (from aiohttp!=4.0.0a0,!=4.0.0a1->fsspec[http]<=2025.3.0,>=2023.1.0->Datasets) (6.4.3)\n",
      "Requirement already satisfied: propcache>=0.2.0 in /home/ec2-user/anaconda3/envs/python3/lib/python3.10/site-packages (from aiohttp!=4.0.0a0,!=4.0.0a1->fsspec[http]<=2025.3.0,>=2023.1.0->Datasets) (0.3.1)\n",
      "Requirement already satisfied: yarl<2.0,>=1.17.0 in /home/ec2-user/anaconda3/envs/python3/lib/python3.10/site-packages (from aiohttp!=4.0.0a0,!=4.0.0a1->fsspec[http]<=2025.3.0,>=2023.1.0->Datasets) (1.20.0)\n",
      "Requirement already satisfied: six>=1.5 in /home/ec2-user/anaconda3/envs/python3/lib/python3.10/site-packages (from python-dateutil>=2.8.1->pandas->Datasets) (1.17.0)\n",
      "Downloading datasets-3.6.0-py3-none-any.whl (491 kB)\n",
      "Downloading dill-0.3.8-py3-none-any.whl (116 kB)\n",
      "Downloading fsspec-2025.3.0-py3-none-any.whl (193 kB)\n",
      "Downloading huggingface_hub-0.32.4-py3-none-any.whl (512 kB)\n",
      "Downloading multiprocess-0.70.16-py310-none-any.whl (134 kB)\n",
      "Downloading xxhash-3.5.0-cp310-cp310-manylinux_2_17_x86_64.manylinux2014_x86_64.whl (194 kB)\n",
      "Downloading hf_xet-1.1.3-cp37-abi3-manylinux_2_17_x86_64.manylinux2014_x86_64.whl (4.8 MB)\n",
      "\u001b[2K   \u001b[90m━━━━━━━━━━━━━━━━━━━━━━━━━━━━━━━━━━━━━━━━\u001b[0m \u001b[32m4.8/4.8 MB\u001b[0m \u001b[31m92.1 MB/s\u001b[0m eta \u001b[36m0:00:00\u001b[0m\n",
      "\u001b[?25hInstalling collected packages: xxhash, hf-xet, fsspec, dill, multiprocess, huggingface-hub, Datasets\n",
      "  Attempting uninstall: fsspec\n",
      "    Found existing installation: fsspec 2025.3.2\n",
      "    Uninstalling fsspec-2025.3.2:\n",
      "      Successfully uninstalled fsspec-2025.3.2\n",
      "  Attempting uninstall: dill\n",
      "    Found existing installation: dill 0.4.0\n",
      "    Uninstalling dill-0.4.0:\n",
      "      Successfully uninstalled dill-0.4.0\n",
      "  Attempting uninstall: multiprocess\n",
      "    Found existing installation: multiprocess 0.70.18\n",
      "    Uninstalling multiprocess-0.70.18:\n",
      "      Successfully uninstalled multiprocess-0.70.18\n",
      "\u001b[31mERROR: pip's dependency resolver does not currently take into account all the packages that are installed. This behaviour is the source of the following dependency conflicts.\n",
      "pathos 0.3.4 requires dill>=0.4.0, but you have dill 0.3.8 which is incompatible.\n",
      "pathos 0.3.4 requires multiprocess>=0.70.18, but you have multiprocess 0.70.16 which is incompatible.\u001b[0m\u001b[31m\n",
      "\u001b[0mSuccessfully installed Datasets-3.6.0 dill-0.3.8 fsspec-2025.3.0 hf-xet-1.1.3 huggingface-hub-0.32.4 multiprocess-0.70.16 xxhash-3.5.0\n",
      "Note: you may need to restart the kernel to use updated packages.\n"
     ]
    }
   ],
   "source": [
    "pip install Datasets"
   ]
  },
  {
   "cell_type": "code",
   "execution_count": 34,
   "id": "e2e87117-1b4b-4088-92b4-1ff7a010f9f0",
   "metadata": {},
   "outputs": [],
   "source": [
    "import llm_ops\n",
    "import re\n",
    "import json\n",
    "from importlib import reload, import_module\n",
    "from sklearn.metrics.pairwise import cosine_similarity\n",
    "import numpy as np\n",
    "from sklearn.model_selection import train_test_split\n",
    "from matplotlib import pyplot as plt\n",
    "import pandas as pd\n",
    "from sklearn.metrics import roc_auc_score\n",
    "from datasets import load_dataset"
   ]
  },
  {
   "cell_type": "code",
   "execution_count": 7,
   "id": "2e90efcf-da2c-4dfd-91f9-d6b7a4e5b759",
   "metadata": {},
   "outputs": [],
   "source": [
    "\n",
    "df = load_dataset('gretelai/symptom_to_diagnosis')\n",
    "training_set = pd.DataFrame(df['train'])\n"
   ]
  },
  {
   "cell_type": "code",
   "execution_count": null,
   "id": "21c76761-1603-495e-9a24-9066f28ed893",
   "metadata": {},
   "outputs": [],
   "source": [
    "def accuracy_score(x, y):\n",
    "    accuracy = 0\n",
    "    for r, d in zip(x, y):\n",
    "        j = json.loads(re.sub(r'\\}\\}', '}', re.sub(r'\\{\\{', '{', r)))\n",
    "        if j[self.target] == d:\n",
    "            accuracy += 1\n",
    "    return accuracy"
   ]
  },
  {
   "cell_type": "code",
   "execution_count": 228,
   "id": "e6da8e01-49e4-4fee-be07-72ec8f7efe4a",
   "metadata": {},
   "outputs": [
    {
     "data": {
      "text/plain": [
       "0.7"
      ]
     },
     "execution_count": 228,
     "metadata": {},
     "output_type": "execute_result"
    }
   ],
   "source": [
    "promptizer3.output_filter('likely')"
   ]
  },
  {
   "cell_type": "code",
   "execution_count": null,
   "id": "5b42e7eb-1383-420c-b6a5-50fe794ec978",
   "metadata": {},
   "outputs": [],
   "source": []
  },
  {
   "cell_type": "code",
   "execution_count": null,
   "id": "61a59624-4e4d-43f6-bc34-7c544dd8c274",
   "metadata": {},
   "outputs": [],
   "source": []
  },
  {
   "cell_type": "code",
   "execution_count": null,
   "id": "b4cf53e6-42b9-4998-a75c-b66be28adeed",
   "metadata": {},
   "outputs": [],
   "source": []
  },
  {
   "cell_type": "code",
   "execution_count": 210,
   "id": "05264bcb-5598-43fe-8f46-f6b713379ce0",
   "metadata": {},
   "outputs": [],
   "source": [
    "class impromptune:\n",
    "    def __init__(self, library, train_set, target, output_filter):\n",
    "#        self.library = __import__(library)\n",
    "        self.library = import_module(library)\n",
    "        self.train = train_set\n",
    "        self.target = target\n",
    "#        self.task = task\n",
    "        self.scores = []\n",
    "        self.custom_ids = []\n",
    "        self.output_filter = output_filter\n",
    "\n",
    "    def populate_search_space(self, model, N):\n",
    "        self.task_prompts = llm_ops.batch_same_prompt(self.library.writer_system, self.library.writer_user, N, .9)\n",
    "        self.task_prompts['custom_id'] = self.task_prompts['custom_id'].astype(int)\n",
    "        # probably a faster way to do this\n",
    "        self.task_prompts['embedding'] = [llm_ops.client.embeddings.create(model='text-embedding-3-small', input = x).data[0].embedding  for x in task_prompts['response']]\n",
    "\n",
    "    def score_random(self, N):\n",
    "\n",
    "        self.random_prompts = self.task_prompts.sample(N)\n",
    "\n",
    "        for c, prompt in zip(self.random_prompts['custom_id'], self.random_prompts['response']):\n",
    "            user_prompts = [prompt + \"\\n\\n### {} ####\\n\".format(self.library.task_delimiter) + t for t in self.train['input_text']]\n",
    "            self.score_df = llm_ops.batch_prompts(self.library.task_system, user_prompts, .01)\n",
    "            self.score_df ['custom_id'] = self.score_df ['custom_id'].astype(int)\n",
    "\n",
    "            accuracy = self.output_filter(self.score_df.sort_values('custom_id')['response'], self.train[self.target])\n",
    "\n",
    "            self.scores.append(accuracy/self.score_df.shape[0])\n",
    "            self.custom_ids.append(c)\n",
    "\n",
    "    \n",
    "            \n",
    "    def BO(self): \n",
    "        \n",
    "        gpr = GaussianProcessRegressor(kernel = Matern() + WhiteKernel())\n",
    "        scores_ecdf = ecdf(self.scores)\n",
    "        \n",
    "        transformed_scores = np.log(lognorm.ppf(scores_ecdf.cdf.evaluate(self.scores) * .999 + .0005, 1))\n",
    "\n",
    "        self.scored_prompt_embeddings = []\n",
    "        scored_custom_ids = []\n",
    "        unscored_prompt_embeddings = []\n",
    "        unscored_custom_ids = []\n",
    "        for x in range(promptizer3.task_prompts.shape[0]):\n",
    "            if promptizer3.task_prompts['custom_id'].iloc[x] not in promptizer3.custom_ids:\n",
    "                unscored_prompt_embeddings.append(promptizer3.task_prompts['embedding'].iloc[x])\n",
    "                unscored_custom_ids.append(promptizer3.task_prompts['custom_id'].iloc[x])\n",
    "            else:\n",
    "                self.scored_prompt_embeddings.append(promptizer3.task_prompts['embedding'].iloc[x])\n",
    "                scored_custom_ids.append(promptizer3.task_prompts['custom_id'].iloc[x])\n",
    "\n",
    "        \n",
    "        gpr.fit(self.scored_prompt_embeddings, transformed_scores)\n",
    "\n",
    "        y_best = max(transformed_scores)\n",
    "        gpr_predictions, gpr_sigma = gpr.predict(unscored_prompt_embeddings, return_std=True)\n",
    "        \n",
    "        best_ei = -10\n",
    "        best_idx = -1\n",
    "        \n",
    "        for m, s in zip(enumerate(gpr_predictions), gpr_sigma):\n",
    "            ei = np.exp(m[1]+s**2/2)*(1-norm.cdf(y_best, m[0]+s**2, s))\n",
    "            if ei > best_ei:\n",
    "                best_ei = ei\n",
    "                best_idx = m[0]\n",
    "                \n",
    "        return best_ei, unscored_custom_ids[best_idx]\n",
    "\n",
    "\n",
    "    def iterate_score(self, idx):\n",
    "        # one at at time\n",
    "        next_prompt = self.task_prompts[self.task_prompts['custom_id'] == idx]['response'].iloc[0]\n",
    "        user_prompts = [next_prompt + \"\\n\\n### {} ####\\n\".format(self.library.task_delimiter) + t  for t in self.train['input_text']]\n",
    "        self.responses = llm_ops.batch_prompts(self.library.task_system, user_prompts, .01)\n",
    "\n",
    "        self.score_df = llm_ops.batch_prompts(self.library.task_system, user_prompts, .01)\n",
    "        self.score_df ['custom_id'] = self.score_df ['custom_id'].astype(int)\n",
    "        accuracy = self.output_filter(self.score_df.sort_values('custom_id')['response'], self.train[self.target])\n",
    "\n",
    "        self.scores.append(accuracy/self.score_df.shape[0])\n",
    "        self.custom_ids.append(idx)\n"
   ]
  },
  {
   "cell_type": "code",
   "execution_count": 211,
   "id": "09b0624e-c751-417f-8c23-a31fe546ef17",
   "metadata": {},
   "outputs": [],
   "source": [
    "promptizer3 = impromptune('prompt_library.medical_diagnosis', pd.DataFrame(df['train']).sample(10), 'disease', llm_ops.probability)\n",
    "promptizer3.task_prompts = promptizer.task_prompts\n",
    "promptizer3.custom_ids = [2, 9, 6]\n",
    "promptizer3.scores = promptizer2.scores\n",
    "promptizer3.train = promptizer2.train\n",
    "promptizer3.target = promptizer2.target\n",
    "promptizer3.prompts = promptizer2.prompts\n",
    "promptizer3.score_df = promptizer2.score_df\n",
    "\n",
    "# roc_auc_score(y_test, p)\n",
    "promptizer3.task_prompts['custom_id'] = promptizer3.task_prompts['custom_id'].astype(int)\n"
   ]
  },
  {
   "cell_type": "code",
   "execution_count": 212,
   "id": "62c18d12-24d7-42eb-ae7a-7f1205cd5e82",
   "metadata": {},
   "outputs": [],
   "source": [
    "promptizer3.task_prompts['embedding'] = [llm_ops.client.embeddings.create(model='text-embedding-3-small', input = x).data[0].embedding  for x in promptizer3.task_prompts['response']]"
   ]
  },
  {
   "cell_type": "code",
   "execution_count": 213,
   "id": "39191805-fcda-49d1-8f1a-4becaca34893",
   "metadata": {},
   "outputs": [],
   "source": [
    "#promptizer.populate_search_space('gpt-4o', 10)"
   ]
  },
  {
   "cell_type": "code",
   "execution_count": null,
   "id": "5dff6f39-05f8-4614-b7e5-9bcf1d6a3e2c",
   "metadata": {},
   "outputs": [],
   "source": [
    "#promptizer2.score_random(3)"
   ]
  },
  {
   "cell_type": "code",
   "execution_count": 215,
   "id": "cc120f52-5f08-4cca-a60e-9e58101c0d11",
   "metadata": {},
   "outputs": [
    {
     "name": "stdout",
     "output_type": "stream",
     "text": [
      "7\n"
     ]
    }
   ],
   "source": [
    "best_ei, best_next_guess = promptizer3.BO()\n",
    "print(best_next_guess)"
   ]
  },
  {
   "cell_type": "code",
   "execution_count": 222,
   "id": "ef36b276-bf0d-4234-8cea-fbeeb104d70f",
   "metadata": {},
   "outputs": [
    {
     "data": {
      "text/plain": [
       "[2, 9, 6, 3]"
      ]
     },
     "execution_count": 222,
     "metadata": {},
     "output_type": "execute_result"
    }
   ],
   "source": [
    "#promptizer3.task_prompts['custom_id']\n",
    "promptizer3.custom_ids\n"
   ]
  },
  {
   "cell_type": "code",
   "execution_count": null,
   "id": "d01dc8c9-b06e-4be4-bfe9-070ff1b985db",
   "metadata": {},
   "outputs": [],
   "source": []
  },
  {
   "cell_type": "code",
   "execution_count": null,
   "id": "8ec48405-6afe-4fa0-9f2d-31fe7e68c44e",
   "metadata": {},
   "outputs": [],
   "source": []
  },
  {
   "cell_type": "code",
   "execution_count": 214,
   "id": "c1743b27-d951-4981-9f68-09480121e2b4",
   "metadata": {
    "scrolled": true
   },
   "outputs": [
    {
     "name": "stdout",
     "output_type": "stream",
     "text": [
      "{\n",
      "  \"id\": \"file-78d6923f17064d0e831bbae4f6da13fe\",\n",
      "  \"bytes\": 20954,\n",
      "  \"created_at\": 1749146368,\n",
      "  \"filename\": \"batch.jsonl\",\n",
      "  \"object\": \"file\",\n",
      "  \"purpose\": \"batch\",\n",
      "  \"status\": \"processed\",\n",
      "  \"expires_at\": null,\n",
      "  \"status_details\": null\n",
      "}\n",
      "Create batch job:\n",
      "\n",
      "{\n",
      "  \"id\": \"batch_27d27d8e-f43c-4d2b-b905-2ca2d1a9d63c\",\n",
      "  \"completion_window\": \"24h\",\n",
      "  \"created_at\": 1749146371,\n",
      "  \"endpoint\": \"/chat/completions\",\n",
      "  \"input_file_id\": \"file-78d6923f17064d0e831bbae4f6da13fe\",\n",
      "  \"object\": \"batch\",\n",
      "  \"status\": \"validating\",\n",
      "  \"cancelled_at\": null,\n",
      "  \"cancelling_at\": null,\n",
      "  \"completed_at\": null,\n",
      "  \"error_file_id\": \"\",\n",
      "  \"errors\": null,\n",
      "  \"expired_at\": null,\n",
      "  \"expires_at\": 1749232768,\n",
      "  \"failed_at\": null,\n",
      "  \"finalizing_at\": null,\n",
      "  \"in_progress_at\": null,\n",
      "  \"metadata\": null,\n",
      "  \"output_file_id\": \"\",\n",
      "  \"request_counts\": {\n",
      "    \"completed\": 0,\n",
      "    \"failed\": 0,\n",
      "    \"total\": 0\n",
      "  }\n",
      "}\n",
      "Track batch job:\n",
      "\n",
      "2025-06-05 17:59:31.624190 Batch Id: batch_27d27d8e-f43c-4d2b-b905-2ca2d1a9d63c,  Status: validating\n",
      "2025-06-05 18:00:31.781961 Batch Id: batch_27d27d8e-f43c-4d2b-b905-2ca2d1a9d63c,  Status: validating\n",
      "2025-06-05 18:01:31.899468 Batch Id: batch_27d27d8e-f43c-4d2b-b905-2ca2d1a9d63c,  Status: validating\n",
      "2025-06-05 18:02:32.034879 Batch Id: batch_27d27d8e-f43c-4d2b-b905-2ca2d1a9d63c,  Status: in_progress\n",
      "2025-06-05 18:03:32.165277 Batch Id: batch_27d27d8e-f43c-4d2b-b905-2ca2d1a9d63c,  Status: in_progress\n",
      "2025-06-05 18:04:32.265452 Batch Id: batch_27d27d8e-f43c-4d2b-b905-2ca2d1a9d63c,  Status: in_progress\n",
      "2025-06-05 18:05:32.401003 Batch Id: batch_27d27d8e-f43c-4d2b-b905-2ca2d1a9d63c,  Status: in_progress\n",
      "2025-06-05 18:06:32.796458 Batch Id: batch_27d27d8e-f43c-4d2b-b905-2ca2d1a9d63c,  Status: finalizing\n",
      "2025-06-05 18:07:32.925206 Batch Id: batch_27d27d8e-f43c-4d2b-b905-2ca2d1a9d63c,  Status: completed\n",
      "{\n",
      "  \"id\": \"file-f3ce0e944a204132933b798137b381b9\",\n",
      "  \"bytes\": 20954,\n",
      "  \"created_at\": 1749146853,\n",
      "  \"filename\": \"batch.jsonl\",\n",
      "  \"object\": \"file\",\n",
      "  \"purpose\": \"batch\",\n",
      "  \"status\": \"processed\",\n",
      "  \"expires_at\": null,\n",
      "  \"status_details\": null\n",
      "}\n",
      "Create batch job:\n",
      "\n",
      "{\n",
      "  \"id\": \"batch_3d3f09aa-d2b0-4812-b14e-816b1069a3b3\",\n",
      "  \"completion_window\": \"24h\",\n",
      "  \"created_at\": 1749146856,\n",
      "  \"endpoint\": \"/chat/completions\",\n",
      "  \"input_file_id\": \"file-f3ce0e944a204132933b798137b381b9\",\n",
      "  \"object\": \"batch\",\n",
      "  \"status\": \"validating\",\n",
      "  \"cancelled_at\": null,\n",
      "  \"cancelling_at\": null,\n",
      "  \"completed_at\": null,\n",
      "  \"error_file_id\": \"\",\n",
      "  \"errors\": null,\n",
      "  \"expired_at\": null,\n",
      "  \"expires_at\": 1749233253,\n",
      "  \"failed_at\": null,\n",
      "  \"finalizing_at\": null,\n",
      "  \"in_progress_at\": null,\n",
      "  \"metadata\": null,\n",
      "  \"output_file_id\": \"\",\n",
      "  \"request_counts\": {\n",
      "    \"completed\": 0,\n",
      "    \"failed\": 0,\n",
      "    \"total\": 0\n",
      "  }\n",
      "}\n",
      "Track batch job:\n",
      "\n",
      "2025-06-05 18:07:36.740136 Batch Id: batch_3d3f09aa-d2b0-4812-b14e-816b1069a3b3,  Status: validating\n",
      "2025-06-05 18:08:36.824925 Batch Id: batch_3d3f09aa-d2b0-4812-b14e-816b1069a3b3,  Status: validating\n",
      "2025-06-05 18:09:36.903947 Batch Id: batch_3d3f09aa-d2b0-4812-b14e-816b1069a3b3,  Status: validating\n",
      "2025-06-05 18:10:36.980276 Batch Id: batch_3d3f09aa-d2b0-4812-b14e-816b1069a3b3,  Status: validating\n",
      "2025-06-05 18:11:37.126710 Batch Id: batch_3d3f09aa-d2b0-4812-b14e-816b1069a3b3,  Status: in_progress\n",
      "2025-06-05 18:12:37.233791 Batch Id: batch_3d3f09aa-d2b0-4812-b14e-816b1069a3b3,  Status: in_progress\n",
      "2025-06-05 18:13:37.436990 Batch Id: batch_3d3f09aa-d2b0-4812-b14e-816b1069a3b3,  Status: in_progress\n",
      "2025-06-05 18:14:37.586380 Batch Id: batch_3d3f09aa-d2b0-4812-b14e-816b1069a3b3,  Status: in_progress\n",
      "2025-06-05 18:15:37.716013 Batch Id: batch_3d3f09aa-d2b0-4812-b14e-816b1069a3b3,  Status: in_progress\n",
      "2025-06-05 18:16:37.834562 Batch Id: batch_3d3f09aa-d2b0-4812-b14e-816b1069a3b3,  Status: in_progress\n",
      "2025-06-05 18:17:37.959435 Batch Id: batch_3d3f09aa-d2b0-4812-b14e-816b1069a3b3,  Status: in_progress\n",
      "2025-06-05 18:18:38.088734 Batch Id: batch_3d3f09aa-d2b0-4812-b14e-816b1069a3b3,  Status: in_progress\n",
      "2025-06-05 18:19:38.196714 Batch Id: batch_3d3f09aa-d2b0-4812-b14e-816b1069a3b3,  Status: finalizing\n",
      "2025-06-05 18:20:38.286057 Batch Id: batch_3d3f09aa-d2b0-4812-b14e-816b1069a3b3,  Status: completed\n"
     ]
    }
   ],
   "source": [
    "promptizer3.iterate_score(best_next_guess)"
   ]
  },
  {
   "cell_type": "code",
   "execution_count": null,
   "id": "3cafe548-074d-4eec-b552-2048b38e9454",
   "metadata": {},
   "outputs": [],
   "source": []
  },
  {
   "cell_type": "code",
   "execution_count": null,
   "id": "ed46747f-c30f-452e-98cd-8f85a2ff91ba",
   "metadata": {},
   "outputs": [],
   "source": []
  },
  {
   "cell_type": "markdown",
   "id": "4f2be87f-0d22-48f3-b380-5ccfab7b809d",
   "metadata": {},
   "source": [
    "ai_detector\n",
    "medical_diagnosis\n",
    "is_rumor\n",
    "robert_frost"
   ]
  },
  {
   "cell_type": "code",
   "execution_count": 46,
   "id": "80350432-eefc-49f4-ac7a-b995250b1808",
   "metadata": {},
   "outputs": [
    {
     "name": "stdout",
     "output_type": "stream",
     "text": [
      "{\n",
      "  \"id\": \"file-1d8517de65a1421cb9cc573278133fbd\",\n",
      "  \"bytes\": 17860,\n",
      "  \"created_at\": 1749134661,\n",
      "  \"filename\": \"batch_same_prompt.jsonl\",\n",
      "  \"object\": \"file\",\n",
      "  \"purpose\": \"batch\",\n",
      "  \"status\": \"processed\",\n",
      "  \"expires_at\": null,\n",
      "  \"status_details\": null\n",
      "}\n",
      "Create batch job:\n",
      "\n",
      "{\n",
      "  \"id\": \"batch_455d9b12-478c-4e8c-ae56-e3d1f48eca66\",\n",
      "  \"completion_window\": \"24h\",\n",
      "  \"created_at\": 1749134664,\n",
      "  \"endpoint\": \"/chat/completions\",\n",
      "  \"input_file_id\": \"file-1d8517de65a1421cb9cc573278133fbd\",\n",
      "  \"object\": \"batch\",\n",
      "  \"status\": \"validating\",\n",
      "  \"cancelled_at\": null,\n",
      "  \"cancelling_at\": null,\n",
      "  \"completed_at\": null,\n",
      "  \"error_file_id\": \"\",\n",
      "  \"errors\": null,\n",
      "  \"expired_at\": null,\n",
      "  \"expires_at\": 1749221061,\n",
      "  \"failed_at\": null,\n",
      "  \"finalizing_at\": null,\n",
      "  \"in_progress_at\": null,\n",
      "  \"metadata\": null,\n",
      "  \"output_file_id\": \"\",\n",
      "  \"request_counts\": {\n",
      "    \"completed\": 0,\n",
      "    \"failed\": 0,\n",
      "    \"total\": 0\n",
      "  }\n",
      "}\n",
      "Track batch job:\n",
      "\n",
      "2025-06-05 14:44:25.104873 Batch Id: batch_455d9b12-478c-4e8c-ae56-e3d1f48eca66,  Status: validating\n",
      "2025-06-05 14:45:25.238737 Batch Id: batch_455d9b12-478c-4e8c-ae56-e3d1f48eca66,  Status: validating\n",
      "2025-06-05 14:46:25.352266 Batch Id: batch_455d9b12-478c-4e8c-ae56-e3d1f48eca66,  Status: validating\n",
      "2025-06-05 14:47:25.479767 Batch Id: batch_455d9b12-478c-4e8c-ae56-e3d1f48eca66,  Status: validating\n",
      "2025-06-05 14:48:25.610517 Batch Id: batch_455d9b12-478c-4e8c-ae56-e3d1f48eca66,  Status: in_progress\n",
      "2025-06-05 14:49:25.747419 Batch Id: batch_455d9b12-478c-4e8c-ae56-e3d1f48eca66,  Status: in_progress\n",
      "2025-06-05 14:50:25.877752 Batch Id: batch_455d9b12-478c-4e8c-ae56-e3d1f48eca66,  Status: in_progress\n",
      "2025-06-05 14:51:25.954715 Batch Id: batch_455d9b12-478c-4e8c-ae56-e3d1f48eca66,  Status: in_progress\n",
      "2025-06-05 14:52:26.080412 Batch Id: batch_455d9b12-478c-4e8c-ae56-e3d1f48eca66,  Status: finalizing\n",
      "2025-06-05 14:53:26.222934 Batch Id: batch_455d9b12-478c-4e8c-ae56-e3d1f48eca66,  Status: finalizing\n",
      "2025-06-05 14:54:26.290095 Batch Id: batch_455d9b12-478c-4e8c-ae56-e3d1f48eca66,  Status: completed\n"
     ]
    }
   ],
   "source": []
  },
  {
   "cell_type": "code",
   "execution_count": 57,
   "id": "110b984a-9bb5-4a30-b792-50ff8e2e6b98",
   "metadata": {},
   "outputs": [
    {
     "data": {
      "text/plain": [
       "'### PATIENTS SYMPTOMS ###'"
      ]
     },
     "execution_count": 57,
     "metadata": {},
     "output_type": "execute_result"
    }
   ],
   "source": [
    "reload(promptizer2.library)\n",
    "promptizer2.library.task_delimiter\n"
   ]
  },
  {
   "cell_type": "code",
   "execution_count": null,
   "id": "c79158d9-b6d1-4818-acce-8fc3cbf3b91b",
   "metadata": {},
   "outputs": [],
   "source": [
    "['gpt-4o', 'claude sonnet 3.7', 'nova micro']"
   ]
  },
  {
   "cell_type": "code",
   "execution_count": 73,
   "id": "3b3b3f21-9325-4b62-a183-1057f162caf0",
   "metadata": {
    "scrolled": true
   },
   "outputs": [
    {
     "name": "stdout",
     "output_type": "stream",
     "text": [
      "{\n",
      "  \"id\": \"file-f30ad656cc5443bcb98d1185afc89035\",\n",
      "  \"bytes\": 22924,\n",
      "  \"created_at\": 1749136752,\n",
      "  \"filename\": \"batch.jsonl\",\n",
      "  \"object\": \"file\",\n",
      "  \"purpose\": \"batch\",\n",
      "  \"status\": \"processed\",\n",
      "  \"expires_at\": null,\n",
      "  \"status_details\": null\n",
      "}\n",
      "Create batch job:\n",
      "\n",
      "{\n",
      "  \"id\": \"batch_d6d271e9-7a90-435e-8ec7-f802977e83bb\",\n",
      "  \"completion_window\": \"24h\",\n",
      "  \"created_at\": 1749136757,\n",
      "  \"endpoint\": \"/chat/completions\",\n",
      "  \"input_file_id\": \"file-f30ad656cc5443bcb98d1185afc89035\",\n",
      "  \"object\": \"batch\",\n",
      "  \"status\": \"validating\",\n",
      "  \"cancelled_at\": null,\n",
      "  \"cancelling_at\": null,\n",
      "  \"completed_at\": null,\n",
      "  \"error_file_id\": \"\",\n",
      "  \"errors\": null,\n",
      "  \"expired_at\": null,\n",
      "  \"expires_at\": 1749223154,\n",
      "  \"failed_at\": null,\n",
      "  \"finalizing_at\": null,\n",
      "  \"in_progress_at\": null,\n",
      "  \"metadata\": null,\n",
      "  \"output_file_id\": \"\",\n",
      "  \"request_counts\": {\n",
      "    \"completed\": 0,\n",
      "    \"failed\": 0,\n",
      "    \"total\": 0\n",
      "  }\n",
      "}\n",
      "Track batch job:\n",
      "\n",
      "2025-06-05 15:19:17.393769 Batch Id: batch_d6d271e9-7a90-435e-8ec7-f802977e83bb,  Status: validating\n",
      "2025-06-05 15:20:17.511842 Batch Id: batch_d6d271e9-7a90-435e-8ec7-f802977e83bb,  Status: validating\n",
      "2025-06-05 15:21:17.639743 Batch Id: batch_d6d271e9-7a90-435e-8ec7-f802977e83bb,  Status: validating\n",
      "2025-06-05 15:22:17.767846 Batch Id: batch_d6d271e9-7a90-435e-8ec7-f802977e83bb,  Status: validating\n",
      "2025-06-05 15:23:17.851470 Batch Id: batch_d6d271e9-7a90-435e-8ec7-f802977e83bb,  Status: in_progress\n",
      "2025-06-05 15:24:17.993543 Batch Id: batch_d6d271e9-7a90-435e-8ec7-f802977e83bb,  Status: in_progress\n",
      "2025-06-05 15:25:18.099579 Batch Id: batch_d6d271e9-7a90-435e-8ec7-f802977e83bb,  Status: in_progress\n",
      "2025-06-05 15:26:18.220191 Batch Id: batch_d6d271e9-7a90-435e-8ec7-f802977e83bb,  Status: in_progress\n",
      "2025-06-05 15:27:18.381292 Batch Id: batch_d6d271e9-7a90-435e-8ec7-f802977e83bb,  Status: finalizing\n",
      "2025-06-05 15:28:18.508895 Batch Id: batch_d6d271e9-7a90-435e-8ec7-f802977e83bb,  Status: finalizing\n",
      "2025-06-05 15:29:18.641211 Batch Id: batch_d6d271e9-7a90-435e-8ec7-f802977e83bb,  Status: finalizing\n",
      "2025-06-05 15:30:18.740018 Batch Id: batch_d6d271e9-7a90-435e-8ec7-f802977e83bb,  Status: completed\n",
      "{\n",
      "  \"id\": \"file-21b8174b7fdb4a67a54783685e088779\",\n",
      "  \"bytes\": 18834,\n",
      "  \"created_at\": 1749137419,\n",
      "  \"filename\": \"batch.jsonl\",\n",
      "  \"object\": \"file\",\n",
      "  \"purpose\": \"batch\",\n",
      "  \"status\": \"processed\",\n",
      "  \"expires_at\": null,\n",
      "  \"status_details\": null\n",
      "}\n",
      "Create batch job:\n",
      "\n",
      "{\n",
      "  \"id\": \"batch_539d24a4-67c3-4e9d-8c03-d8520a351eeb\",\n",
      "  \"completion_window\": \"24h\",\n",
      "  \"created_at\": 1749137423,\n",
      "  \"endpoint\": \"/chat/completions\",\n",
      "  \"input_file_id\": \"file-21b8174b7fdb4a67a54783685e088779\",\n",
      "  \"object\": \"batch\",\n",
      "  \"status\": \"validating\",\n",
      "  \"cancelled_at\": null,\n",
      "  \"cancelling_at\": null,\n",
      "  \"completed_at\": null,\n",
      "  \"error_file_id\": \"\",\n",
      "  \"errors\": null,\n",
      "  \"expired_at\": null,\n",
      "  \"expires_at\": 1749223819,\n",
      "  \"failed_at\": null,\n",
      "  \"finalizing_at\": null,\n",
      "  \"in_progress_at\": null,\n",
      "  \"metadata\": null,\n",
      "  \"output_file_id\": \"\",\n",
      "  \"request_counts\": {\n",
      "    \"completed\": 0,\n",
      "    \"failed\": 0,\n",
      "    \"total\": 0\n",
      "  }\n",
      "}\n",
      "Track batch job:\n",
      "\n",
      "2025-06-05 15:30:23.886599 Batch Id: batch_539d24a4-67c3-4e9d-8c03-d8520a351eeb,  Status: validating\n",
      "2025-06-05 15:31:24.134012 Batch Id: batch_539d24a4-67c3-4e9d-8c03-d8520a351eeb,  Status: validating\n",
      "2025-06-05 15:32:24.260450 Batch Id: batch_539d24a4-67c3-4e9d-8c03-d8520a351eeb,  Status: validating\n",
      "2025-06-05 15:33:24.387748 Batch Id: batch_539d24a4-67c3-4e9d-8c03-d8520a351eeb,  Status: validating\n",
      "2025-06-05 15:34:24.512953 Batch Id: batch_539d24a4-67c3-4e9d-8c03-d8520a351eeb,  Status: validating\n",
      "2025-06-05 15:35:24.652578 Batch Id: batch_539d24a4-67c3-4e9d-8c03-d8520a351eeb,  Status: in_progress\n",
      "2025-06-05 15:36:24.788961 Batch Id: batch_539d24a4-67c3-4e9d-8c03-d8520a351eeb,  Status: in_progress\n",
      "2025-06-05 15:37:24.891523 Batch Id: batch_539d24a4-67c3-4e9d-8c03-d8520a351eeb,  Status: in_progress\n",
      "2025-06-05 15:38:24.975615 Batch Id: batch_539d24a4-67c3-4e9d-8c03-d8520a351eeb,  Status: in_progress\n",
      "2025-06-05 15:39:25.108295 Batch Id: batch_539d24a4-67c3-4e9d-8c03-d8520a351eeb,  Status: in_progress\n",
      "2025-06-05 15:40:25.240047 Batch Id: batch_539d24a4-67c3-4e9d-8c03-d8520a351eeb,  Status: finalizing\n",
      "2025-06-05 15:41:25.368962 Batch Id: batch_539d24a4-67c3-4e9d-8c03-d8520a351eeb,  Status: completed\n",
      "{\n",
      "  \"id\": \"file-80f0336cac1e40328bb67e8b1bce9c02\",\n",
      "  \"bytes\": 18894,\n",
      "  \"created_at\": 1749138087,\n",
      "  \"filename\": \"batch.jsonl\",\n",
      "  \"object\": \"file\",\n",
      "  \"purpose\": \"batch\",\n",
      "  \"status\": \"processed\",\n",
      "  \"expires_at\": null,\n",
      "  \"status_details\": null\n",
      "}\n",
      "Create batch job:\n",
      "\n",
      "{\n",
      "  \"id\": \"batch_7b8c8884-5f15-4843-b29c-86ae8c6aeba7\",\n",
      "  \"completion_window\": \"24h\",\n",
      "  \"created_at\": 1749138091,\n",
      "  \"endpoint\": \"/chat/completions\",\n",
      "  \"input_file_id\": \"file-80f0336cac1e40328bb67e8b1bce9c02\",\n",
      "  \"object\": \"batch\",\n",
      "  \"status\": \"validating\",\n",
      "  \"cancelled_at\": null,\n",
      "  \"cancelling_at\": null,\n",
      "  \"completed_at\": null,\n",
      "  \"error_file_id\": \"\",\n",
      "  \"errors\": null,\n",
      "  \"expired_at\": null,\n",
      "  \"expires_at\": 1749224487,\n",
      "  \"failed_at\": null,\n",
      "  \"finalizing_at\": null,\n",
      "  \"in_progress_at\": null,\n",
      "  \"metadata\": null,\n",
      "  \"output_file_id\": \"\",\n",
      "  \"request_counts\": {\n",
      "    \"completed\": 0,\n",
      "    \"failed\": 0,\n",
      "    \"total\": 0\n",
      "  }\n",
      "}\n",
      "Track batch job:\n",
      "\n",
      "2025-06-05 15:41:31.381747 Batch Id: batch_7b8c8884-5f15-4843-b29c-86ae8c6aeba7,  Status: validating\n",
      "2025-06-05 15:42:31.507581 Batch Id: batch_7b8c8884-5f15-4843-b29c-86ae8c6aeba7,  Status: validating\n",
      "2025-06-05 15:43:31.637157 Batch Id: batch_7b8c8884-5f15-4843-b29c-86ae8c6aeba7,  Status: validating\n",
      "2025-06-05 15:44:31.766078 Batch Id: batch_7b8c8884-5f15-4843-b29c-86ae8c6aeba7,  Status: validating\n",
      "2025-06-05 15:45:31.894107 Batch Id: batch_7b8c8884-5f15-4843-b29c-86ae8c6aeba7,  Status: in_progress\n",
      "2025-06-05 15:46:32.035361 Batch Id: batch_7b8c8884-5f15-4843-b29c-86ae8c6aeba7,  Status: in_progress\n",
      "2025-06-05 15:47:32.165566 Batch Id: batch_7b8c8884-5f15-4843-b29c-86ae8c6aeba7,  Status: in_progress\n",
      "2025-06-05 15:48:32.260372 Batch Id: batch_7b8c8884-5f15-4843-b29c-86ae8c6aeba7,  Status: in_progress\n",
      "2025-06-05 15:49:32.357402 Batch Id: batch_7b8c8884-5f15-4843-b29c-86ae8c6aeba7,  Status: finalizing\n",
      "2025-06-05 15:50:32.495389 Batch Id: batch_7b8c8884-5f15-4843-b29c-86ae8c6aeba7,  Status: finalizing\n",
      "2025-06-05 15:51:32.699334 Batch Id: batch_7b8c8884-5f15-4843-b29c-86ae8c6aeba7,  Status: completed\n"
     ]
    }
   ],
   "source": []
  },
  {
   "cell_type": "code",
   "execution_count": null,
   "id": "06354f82-2c0c-4b13-b21d-dc1a8b1321dc",
   "metadata": {},
   "outputs": [],
   "source": [
    "promptizer3.iterate()"
   ]
  },
  {
   "cell_type": "code",
   "execution_count": null,
   "id": "3d747b1f-1dea-4ae0-afa9-e76dc13d0607",
   "metadata": {},
   "outputs": [],
   "source": []
  },
  {
   "cell_type": "code",
   "execution_count": null,
   "id": "901a8675-6967-4125-96a4-fc75e6dfe115",
   "metadata": {},
   "outputs": [],
   "source": []
  },
  {
   "cell_type": "code",
   "execution_count": null,
   "id": "a994f6bb-c09e-4007-8ce9-c6eaa8dc515b",
   "metadata": {},
   "outputs": [],
   "source": []
  },
  {
   "cell_type": "code",
   "execution_count": null,
   "id": "0f2ddc23-ebd3-4738-8081-a8bbf21edec8",
   "metadata": {},
   "outputs": [],
   "source": []
  },
  {
   "cell_type": "code",
   "execution_count": 107,
   "id": "8a0474f9-1060-4747-8f7c-77f8020b7e3f",
   "metadata": {},
   "outputs": [
    {
     "data": {
      "text/plain": [
       "[0.8,\n",
       " 0.7666666666666667,\n",
       " 0.7333333333333333,\n",
       " 0.7666666666666667,\n",
       " 0.7333333333333333,\n",
       " 0.7333333333333333,\n",
       " 0.7333333333333333,\n",
       " 0.8333333333333334,\n",
       " 0.7333333333333333,\n",
       " 0.7333333333333333]"
      ]
     },
     "execution_count": 107,
     "metadata": {},
     "output_type": "execute_result"
    }
   ],
   "source": [
    "def response_scores(responses, y):\n",
    "    scores = []\n",
    "    for r in responses:\n",
    "        p = []\n",
    "        for j in r['response']:\n",
    "            jsponse = json.loads(re.search(r'\\{.*\\}', j, re.DOTALL).group(0))\n",
    "        #if 'liklihood' in jsponse.keys():\n",
    "        #    p.append(probability(jsponse['liklihood']))\n",
    "        #else:\n",
    "            p.append(probability(jsponse['likelihood generated by AI']))\n",
    "        #    p.append(probability(jsponse['likelihood']))\n",
    "        scores.append(roc_auc_score(y, p))\n",
    "    return scores\n",
    "train_scores = response_scores(train_responses, X_train['target'])\n",
    "test_scores = response_scores(test_responses, X_test['generated'])\n",
    "plt.plot(train_scores, label='train')\n",
    "plt.plot(test_scores, label='test')\n",
    "plt.legend()\n",
    "ps = plt.show()\n"
   ]
  },
  {
   "cell_type": "code",
   "execution_count": 100,
   "id": "a41e9f57-3dd2-45ad-9dc0-9b0a502d9f93",
   "metadata": {},
   "outputs": [
    {
     "name": "stdout",
     "output_type": "stream",
     "text": [
      "pneumonia , common cold\n",
      "psoriasis , drug reaction\n",
      "impetigo , fungal infection\n",
      "dengue , malaria\n",
      "drug reaction , allergy\n",
      "chicken pox , dengue\n",
      "pneumonia , bronchial asthma\n",
      "dengue , malaria\n"
     ]
    },
    {
     "data": {
      "text/plain": [
       "0.7333333333333333"
      ]
     },
     "execution_count": 100,
     "metadata": {},
     "output_type": "execute_result"
    }
   ],
   "source": [
    "accuracy = 0\n",
    "for r, d in zip(responses.sort_values('custom_id')['response'], pd.DataFrame(df['train'])['output_text'][:30]):\n",
    "    j = json.loads(re.sub(r'\\}\\}', '}', re.sub(r'\\{\\{', '{', r)))\n",
    "    if j['disease'] == d:\n",
    "        accuracy += 1\n",
    "    else:\n",
    "        print(j['disease'], ',', d)\n",
    "accuracy/responses.shape[0]"
   ]
  },
  {
   "cell_type": "markdown",
   "id": "e2276bc2-9e11-45ba-917e-9221b52ead32",
   "metadata": {},
   "source": [
    "### Bayesian Optimization of Random Prompts"
   ]
  },
  {
   "cell_type": "code",
   "execution_count": 101,
   "id": "1b7c5774-926c-48c6-a0e2-bc6f1e41ec55",
   "metadata": {},
   "outputs": [],
   "source": [
    "import os\n",
    "from matplotlib import pyplot as plt\n",
    "import numpy as np\n",
    "from sklearn.gaussian_process import GaussianProcessRegressor\n",
    "from sklearn.gaussian_process.kernels import WhiteKernel, Matern, DotProduct\n",
    "from scipy.stats import ecdf, lognorm\n",
    "from multiprocessing import Pool\n",
    "from scipy.stats import norm"
   ]
  },
  {
   "cell_type": "markdown",
   "id": "3325fcba-e7fb-4acd-8a84-f902c3672e44",
   "metadata": {},
   "source": [
    "## Gaussian Process Regressor\n",
    "- convert target to lognormal\n",
    "- model process as log of converted target\n",
    "- works better when target is actually normal\n",
    "- use lognormal because expected value is \"easy\" to calculate"
   ]
  },
  {
   "cell_type": "code",
   "execution_count": 402,
   "id": "77d4f172-9b71-41ab-9a0f-76bedebc0d2c",
   "metadata": {},
   "outputs": [],
   "source": [
    "\n"
   ]
  },
  {
   "cell_type": "markdown",
   "id": "2663f6c0-b741-477f-b042-2ae41dd8a6a6",
   "metadata": {},
   "source": [
    "Univariate Expected Improvement"
   ]
  },
  {
   "cell_type": "code",
   "execution_count": 400,
   "id": "16508c85-699f-4b61-80db-a34572f84bb6",
   "metadata": {},
   "outputs": [
    {
     "name": "stdout",
     "output_type": "stream",
     "text": [
      "0.4637276785714286\n"
     ]
    }
   ],
   "source": [
    "p = []\n",
    "for j in responses['response']:\n",
    "    jsponse = json.loads(re.search(r'\\{.*\\}', j, re.DOTALL).group(0))\n",
    "    if 'liklihood' in jsponse.keys():\n",
    "        p.append(probability(jsponse['liklihood']))\n",
    "    else:\n",
    "        p.append(probability(jsponse['likelihood'])) \n",
    "\n",
    "print(roc_auc_score(y_train, p))\n",
    "\n",
    "# best_prompt = random_prompts_list.pop(best_idx)\n",
    "# df = pd.concat([df, pd.DataFrame({'scores': roc_auc_score(y_train, p), \n",
    "#                                   'prompts': best_prompt}, index = [df.shape[0]])])\n",
    "# best_embedding = random_prompt_embeddings.pop(best_idx)\n",
    "# detection_prompt_embeddings.append(best_embedding)\n"
   ]
  },
  {
   "cell_type": "code",
   "execution_count": null,
   "id": "1a12e41f-1209-472c-a5e8-7f348bf989bf",
   "metadata": {},
   "outputs": [],
   "source": []
  },
  {
   "cell_type": "code",
   "execution_count": null,
   "id": "df50711e-2746-4e5f-a696-8aebd46ab6f9",
   "metadata": {},
   "outputs": [],
   "source": [
    "# theres a few different ways to do sampling (iterative, flipping, different models, pure random)\n",
    "# RAG: embed the RAG data into the 'text' in the training, test sets"
   ]
  },
  {
   "cell_type": "code",
   "execution_count": null,
   "id": "4e4c15cd-5481-45f7-8316-5d0644d3be8e",
   "metadata": {},
   "outputs": [],
   "source": []
  },
  {
   "cell_type": "code",
   "execution_count": null,
   "id": "a943b4e3-352b-4e67-bce6-58113d346fa1",
   "metadata": {},
   "outputs": [],
   "source": []
  },
  {
   "cell_type": "code",
   "execution_count": null,
   "id": "5b922823-7e4a-49d8-a56e-b34aaa88765b",
   "metadata": {},
   "outputs": [],
   "source": []
  },
  {
   "cell_type": "code",
   "execution_count": null,
   "id": "f457cf94-15d1-4f9d-8fd4-a4c88513f696",
   "metadata": {},
   "outputs": [],
   "source": []
  },
  {
   "cell_type": "code",
   "execution_count": null,
   "id": "f893c7a9-f45d-43e2-8ed6-94821d7876d5",
   "metadata": {},
   "outputs": [],
   "source": []
  },
  {
   "cell_type": "code",
   "execution_count": null,
   "id": "18ad3221-d70c-49cc-9954-97c9a3ba1efd",
   "metadata": {
    "tags": []
   },
   "outputs": [
    {
     "name": "stdout",
     "output_type": "stream",
     "text": [
      "{\n",
      "  \"id\": \"file-27704bf545054690841eeea1d74a0163\",\n",
      "  \"bytes\": 153758,\n",
      "  \"created_at\": 1746979155,\n",
      "  \"filename\": \"74.jsonl\",\n",
      "  \"object\": \"file\",\n",
      "  \"purpose\": \"batch\",\n",
      "  \"status\": \"processed\",\n",
      "  \"expires_at\": null,\n",
      "  \"status_details\": null\n",
      "}\n",
      "Create batch job:\n",
      "\n",
      "{\n",
      "  \"id\": \"batch_797a55be-37de-451e-8ca4-1926156c8249\",\n",
      "  \"completion_window\": \"24h\",\n",
      "  \"created_at\": 1746979159,\n",
      "  \"endpoint\": \"/chat/completions\",\n",
      "  \"input_file_id\": \"file-27704bf545054690841eeea1d74a0163\",\n",
      "  \"object\": \"batch\",\n",
      "  \"status\": \"validating\",\n",
      "  \"cancelled_at\": null,\n",
      "  \"cancelling_at\": null,\n",
      "  \"completed_at\": null,\n",
      "  \"error_file_id\": \"\",\n",
      "  \"errors\": null,\n",
      "  \"expired_at\": null,\n",
      "  \"expires_at\": 1747065555,\n",
      "  \"failed_at\": null,\n",
      "  \"finalizing_at\": null,\n",
      "  \"in_progress_at\": null,\n",
      "  \"metadata\": null,\n",
      "  \"output_file_id\": \"\",\n",
      "  \"request_counts\": {\n",
      "    \"completed\": 0,\n",
      "    \"failed\": 0,\n",
      "    \"total\": 0\n",
      "  }\n",
      "}\n",
      "Track batch job:\n",
      "\n",
      "2025-05-11 15:59:19.654070 Batch Id: batch_797a55be-37de-451e-8ca4-1926156c8249,  Status: validating\n"
     ]
    }
   ],
   "source": [
    "iterate_prompt(task_prompt, , examples, sample, paths)"
   ]
  },
  {
   "cell_type": "code",
   "execution_count": 32,
   "id": "d0449469-c91c-4ff9-a8b6-0407e3dd97b0",
   "metadata": {},
   "outputs": [],
   "source": [
    "import batch_bayesian_optimization as bbo\n",
    "batch_size = 3\n",
    "batch_idx, batch_mu, batch_sigma = bbo.create_batches(gpr, random_prompts_embeddings, 12, batch_size)\n",
    "best_idx = bbo.get_best_batch(batch_mu, batch_sigma, batch_size)"
   ]
  },
  {
   "cell_type": "code",
   "execution_count": 36,
   "id": "064109e0-b93b-4e89-99d5-18a7a4e8dcf4",
   "metadata": {},
   "outputs": [
    {
     "data": {
      "text/plain": [
       "[4, 24, 29]"
      ]
     },
     "execution_count": 36,
     "metadata": {},
     "output_type": "execute_result"
    }
   ],
   "source": [
    "batch_idx[best_idx]"
   ]
  },
  {
   "cell_type": "code",
   "execution_count": 37,
   "id": "19a775fc-e98b-474f-9247-7a116124adba",
   "metadata": {},
   "outputs": [
    {
     "data": {
      "text/plain": [
       "3921225"
      ]
     },
     "execution_count": 37,
     "metadata": {},
     "output_type": "execute_result"
    }
   ],
   "source": [
    "from math import comb\n",
    "comb(100, 4)"
   ]
  },
  {
   "cell_type": "code",
   "execution_count": null,
   "id": "8ab89c11-16d6-44f8-9f44-621c312ca5a6",
   "metadata": {},
   "outputs": [],
   "source": []
  }
 ],
 "metadata": {
  "kernelspec": {
   "display_name": "conda_python3",
   "language": "python",
   "name": "conda_python3"
  },
  "language_info": {
   "codemirror_mode": {
    "name": "ipython",
    "version": 3
   },
   "file_extension": ".py",
   "mimetype": "text/x-python",
   "name": "python",
   "nbconvert_exporter": "python",
   "pygments_lexer": "ipython3",
   "version": "3.10.17"
  }
 },
 "nbformat": 4,
 "nbformat_minor": 5
}
